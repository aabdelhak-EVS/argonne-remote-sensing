{
 "cells": [
  {
   "cell_type": "code",
   "execution_count": null,
   "id": "b6f86e4c-5819-4d25-918f-59577cdf4f7b",
   "metadata": {},
   "outputs": [],
   "source": [
    "conda install -c conda-forge arm_pyart -y"
   ]
  },
  {
   "cell_type": "code",
   "execution_count": 1,
   "id": "8cc4af56-b8fe-44a4-9233-91d77e6f78d8",
   "metadata": {
    "tags": []
   },
   "outputs": [
    {
     "name": "stdout",
     "output_type": "stream",
     "text": [
      "Requirement already satisfied: radtraq in /Users/adamabdelhak/opt/anaconda3/lib/python3.9/site-packages (0.0.6)\n",
      "Requirement already satisfied: numpy in /Users/adamabdelhak/opt/anaconda3/lib/python3.9/site-packages (from radtraq) (1.24.3)\n",
      "Requirement already satisfied: scipy in /Users/adamabdelhak/opt/anaconda3/lib/python3.9/site-packages (from radtraq) (1.10.1)\n",
      "Requirement already satisfied: xarray in /Users/adamabdelhak/opt/anaconda3/lib/python3.9/site-packages (from radtraq) (2022.11.0)\n",
      "Requirement already satisfied: matplotlib in /Users/adamabdelhak/opt/anaconda3/lib/python3.9/site-packages (from radtraq) (3.7.1)\n",
      "Requirement already satisfied: cython in /Users/adamabdelhak/opt/anaconda3/lib/python3.9/site-packages (from radtraq) (0.29.35)\n",
      "Requirement already satisfied: netcdf4 in /Users/adamabdelhak/opt/anaconda3/lib/python3.9/site-packages (from radtraq) (1.6.2)\n",
      "Requirement already satisfied: act-atmos in /Users/adamabdelhak/opt/anaconda3/lib/python3.9/site-packages (from radtraq) (1.5.1)\n",
      "Requirement already satisfied: pint in /Users/adamabdelhak/opt/anaconda3/lib/python3.9/site-packages (from radtraq) (0.22)\n",
      "Requirement already satisfied: pyproj in /Users/adamabdelhak/opt/anaconda3/lib/python3.9/site-packages (from act-atmos->radtraq) (3.4.1)\n",
      "Requirement already satisfied: pandas<2.0 in /Users/adamabdelhak/opt/anaconda3/lib/python3.9/site-packages (from act-atmos->radtraq) (1.5.3)\n",
      "Requirement already satisfied: dask in /Users/adamabdelhak/opt/anaconda3/lib/python3.9/site-packages (from act-atmos->radtraq) (2023.6.0)\n",
      "Requirement already satisfied: distributed in /Users/adamabdelhak/opt/anaconda3/lib/python3.9/site-packages (from act-atmos->radtraq) (2023.6.0)\n",
      "Requirement already satisfied: requests in /Users/adamabdelhak/opt/anaconda3/lib/python3.9/site-packages (from act-atmos->radtraq) (2.29.0)\n",
      "Requirement already satisfied: six in /Users/adamabdelhak/opt/anaconda3/lib/python3.9/site-packages (from act-atmos->radtraq) (1.16.0)\n",
      "Requirement already satisfied: skyfield in /Users/adamabdelhak/opt/anaconda3/lib/python3.9/site-packages (from act-atmos->radtraq) (1.46)\n",
      "Requirement already satisfied: cftime in /Users/adamabdelhak/opt/anaconda3/lib/python3.9/site-packages (from act-atmos->radtraq) (1.6.2)\n",
      "Requirement already satisfied: lazy-loader in /Users/adamabdelhak/opt/anaconda3/lib/python3.9/site-packages (from act-atmos->radtraq) (0.3)\n",
      "Requirement already satisfied: fsspec in /Users/adamabdelhak/opt/anaconda3/lib/python3.9/site-packages (from act-atmos->radtraq) (2023.6.0)\n",
      "Requirement already satisfied: metpy in /Users/adamabdelhak/opt/anaconda3/lib/python3.9/site-packages (from act-atmos->radtraq) (1.4.0)\n",
      "Requirement already satisfied: lxml in /Users/adamabdelhak/opt/anaconda3/lib/python3.9/site-packages (from act-atmos->radtraq) (4.9.2)\n",
      "Requirement already satisfied: contourpy>=1.0.1 in /Users/adamabdelhak/opt/anaconda3/lib/python3.9/site-packages (from matplotlib->radtraq) (1.0.5)\n",
      "Requirement already satisfied: cycler>=0.10 in /Users/adamabdelhak/opt/anaconda3/lib/python3.9/site-packages (from matplotlib->radtraq) (0.11.0)\n",
      "Requirement already satisfied: fonttools>=4.22.0 in /Users/adamabdelhak/opt/anaconda3/lib/python3.9/site-packages (from matplotlib->radtraq) (4.25.0)\n",
      "Requirement already satisfied: kiwisolver>=1.0.1 in /Users/adamabdelhak/opt/anaconda3/lib/python3.9/site-packages (from matplotlib->radtraq) (1.4.4)\n",
      "Requirement already satisfied: packaging>=20.0 in /Users/adamabdelhak/opt/anaconda3/lib/python3.9/site-packages (from matplotlib->radtraq) (23.0)\n",
      "Requirement already satisfied: pillow>=6.2.0 in /Users/adamabdelhak/opt/anaconda3/lib/python3.9/site-packages (from matplotlib->radtraq) (9.4.0)\n",
      "Requirement already satisfied: pyparsing>=2.3.1 in /Users/adamabdelhak/opt/anaconda3/lib/python3.9/site-packages (from matplotlib->radtraq) (3.0.9)\n",
      "Requirement already satisfied: python-dateutil>=2.7 in /Users/adamabdelhak/opt/anaconda3/lib/python3.9/site-packages (from matplotlib->radtraq) (2.8.2)\n",
      "Requirement already satisfied: importlib-resources>=3.2.0 in /Users/adamabdelhak/opt/anaconda3/lib/python3.9/site-packages (from matplotlib->radtraq) (5.2.0)\n",
      "Requirement already satisfied: typing-extensions in /Users/adamabdelhak/opt/anaconda3/lib/python3.9/site-packages (from pint->radtraq) (4.6.3)\n",
      "Requirement already satisfied: zipp>=3.1.0 in /Users/adamabdelhak/opt/anaconda3/lib/python3.9/site-packages (from importlib-resources>=3.2.0->matplotlib->radtraq) (3.11.0)\n",
      "Requirement already satisfied: pytz>=2020.1 in /Users/adamabdelhak/opt/anaconda3/lib/python3.9/site-packages (from pandas<2.0->act-atmos->radtraq) (2022.7)\n",
      "Requirement already satisfied: click>=8.0 in /Users/adamabdelhak/opt/anaconda3/lib/python3.9/site-packages (from dask->act-atmos->radtraq) (8.0.4)\n",
      "Requirement already satisfied: cloudpickle>=1.5.0 in /Users/adamabdelhak/opt/anaconda3/lib/python3.9/site-packages (from dask->act-atmos->radtraq) (2.2.1)\n",
      "Requirement already satisfied: partd>=1.2.0 in /Users/adamabdelhak/opt/anaconda3/lib/python3.9/site-packages (from dask->act-atmos->radtraq) (1.2.0)\n",
      "Requirement already satisfied: pyyaml>=5.3.1 in /Users/adamabdelhak/opt/anaconda3/lib/python3.9/site-packages (from dask->act-atmos->radtraq) (6.0)\n",
      "Requirement already satisfied: toolz>=0.10.0 in /Users/adamabdelhak/opt/anaconda3/lib/python3.9/site-packages (from dask->act-atmos->radtraq) (0.12.0)\n",
      "Requirement already satisfied: importlib-metadata>=4.13.0 in /Users/adamabdelhak/opt/anaconda3/lib/python3.9/site-packages (from dask->act-atmos->radtraq) (6.0.0)\n",
      "Requirement already satisfied: jinja2>=2.10.3 in /Users/adamabdelhak/opt/anaconda3/lib/python3.9/site-packages (from distributed->act-atmos->radtraq) (3.1.2)\n",
      "Requirement already satisfied: locket>=1.0.0 in /Users/adamabdelhak/opt/anaconda3/lib/python3.9/site-packages (from distributed->act-atmos->radtraq) (1.0.0)\n",
      "Requirement already satisfied: msgpack>=1.0.0 in /Users/adamabdelhak/opt/anaconda3/lib/python3.9/site-packages (from distributed->act-atmos->radtraq) (1.0.3)\n",
      "Requirement already satisfied: psutil>=5.7.2 in /Users/adamabdelhak/opt/anaconda3/lib/python3.9/site-packages (from distributed->act-atmos->radtraq) (5.9.0)\n",
      "Requirement already satisfied: sortedcontainers>=2.0.5 in /Users/adamabdelhak/opt/anaconda3/lib/python3.9/site-packages (from distributed->act-atmos->radtraq) (2.4.0)\n",
      "Requirement already satisfied: tblib>=1.6.0 in /Users/adamabdelhak/opt/anaconda3/lib/python3.9/site-packages (from distributed->act-atmos->radtraq) (1.7.0)\n",
      "Requirement already satisfied: tornado>=6.0.4 in /Users/adamabdelhak/opt/anaconda3/lib/python3.9/site-packages (from distributed->act-atmos->radtraq) (6.2)\n",
      "Requirement already satisfied: urllib3>=1.24.3 in /Users/adamabdelhak/opt/anaconda3/lib/python3.9/site-packages (from distributed->act-atmos->radtraq) (1.26.16)\n",
      "Requirement already satisfied: zict>=2.2.0 in /Users/adamabdelhak/opt/anaconda3/lib/python3.9/site-packages (from distributed->act-atmos->radtraq) (2.2.0)\n",
      "Requirement already satisfied: pooch>=1.2.0 in /Users/adamabdelhak/opt/anaconda3/lib/python3.9/site-packages (from metpy->act-atmos->radtraq) (1.4.0)\n",
      "Requirement already satisfied: traitlets>=5.0.5 in /Users/adamabdelhak/opt/anaconda3/lib/python3.9/site-packages (from metpy->act-atmos->radtraq) (5.7.1)\n",
      "Requirement already satisfied: certifi in /Users/adamabdelhak/opt/anaconda3/lib/python3.9/site-packages (from pyproj->act-atmos->radtraq) (2023.5.7)\n",
      "Requirement already satisfied: charset-normalizer<4,>=2 in /Users/adamabdelhak/opt/anaconda3/lib/python3.9/site-packages (from requests->act-atmos->radtraq) (2.0.4)\n",
      "Requirement already satisfied: idna<4,>=2.5 in /Users/adamabdelhak/opt/anaconda3/lib/python3.9/site-packages (from requests->act-atmos->radtraq) (3.4)\n",
      "Requirement already satisfied: jplephem>=2.13 in /Users/adamabdelhak/opt/anaconda3/lib/python3.9/site-packages (from skyfield->act-atmos->radtraq) (2.18)\n",
      "Requirement already satisfied: sgp4>=2.2 in /Users/adamabdelhak/opt/anaconda3/lib/python3.9/site-packages (from skyfield->act-atmos->radtraq) (2.22)\n",
      "Requirement already satisfied: MarkupSafe>=2.0 in /Users/adamabdelhak/opt/anaconda3/lib/python3.9/site-packages (from jinja2>=2.10.3->distributed->act-atmos->radtraq) (2.1.1)\n",
      "Requirement already satisfied: appdirs in /Users/adamabdelhak/opt/anaconda3/lib/python3.9/site-packages (from pooch>=1.2.0->metpy->act-atmos->radtraq) (1.4.4)\n",
      "Requirement already satisfied: heapdict in /Users/adamabdelhak/opt/anaconda3/lib/python3.9/site-packages (from zict>=2.2.0->distributed->act-atmos->radtraq) (1.0.1)\n",
      "Note: you may need to restart the kernel to use updated packages.\n"
     ]
    }
   ],
   "source": [
    "pip install radtraq"
   ]
  },
  {
   "cell_type": "code",
   "execution_count": 2,
   "id": "8eaac998-93b1-4ae7-826c-b04a1ffedf46",
   "metadata": {
    "tags": []
   },
   "outputs": [],
   "source": [
    "import numpy as np\n",
    "import act.io.armfiles"
   ]
  },
  {
   "cell_type": "code",
   "execution_count": 3,
   "id": "94867f2c-6312-4db3-b38b-8d2562e1fbdb",
   "metadata": {
    "tags": []
   },
   "outputs": [
    {
     "name": "stdout",
     "output_type": "stream",
     "text": [
      "\n",
      "## You are using the Python ARM Radar Toolkit (Py-ART), an open source\n",
      "## library for working with weather radar data. Py-ART is partly\n",
      "## supported by the U.S. Department of Energy as part of the Atmospheric\n",
      "## Radiation Measurement (ARM) Climate Research Facility, an Office of\n",
      "## Science user facility.\n",
      "##\n",
      "## If you use this software to prepare a publication, please cite:\n",
      "##\n",
      "##     JJ Helmus and SM Collis, JORS 2016, doi: 10.5334/jors.119\n",
      "\n"
     ]
    }
   ],
   "source": [
    "import matplotlib.pyplot as plt\n",
    "import xarray as xr\n",
    "from netCDF4 import Dataset\n",
    "import netCDF4\n",
    "import pyart\n",
    "import pandas as pd\n",
    "import cartopy.crs as ccrs\n",
    "import cartopy.feature as cfeature\n",
    "import metpy\n",
    "from matplotlib.dates import DateFormatter"
   ]
  },
  {
   "cell_type": "code",
   "execution_count": 4,
   "id": "dbc7d3d0-5d61-484b-bd65-6a174aea2c45",
   "metadata": {
    "tags": []
   },
   "outputs": [],
   "source": [
    "from pyart.testing import get_test_data\n",
    "import fsspec\n",
    "from metpy.plots import USCOUNTIES\n",
    "import warnings\n",
    "warnings.filterwarnings(\"ignore\")\n",
    "import glob\n",
    "import os"
   ]
  },
  {
   "cell_type": "code",
   "execution_count": null,
   "id": "b4c67a86-6249-4587-b3b7-f77179b7a32e",
   "metadata": {},
   "outputs": [],
   "source": [
    "ds = xr.open_mfdataset('/Users/adamabdelhak/Downloads/crocus-neiu-mrrpro-a1-20230612.000000.nc')"
   ]
  },
  {
   "cell_type": "code",
   "execution_count": null,
   "id": "b7b0a8c7-0c23-4989-a57e-5a7b6a61f629",
   "metadata": {},
   "outputs": [],
   "source": [
    "ds"
   ]
  },
  {
   "cell_type": "code",
   "execution_count": null,
   "id": "cf2075f9-5a4e-471d-b647-d449261fa8f1",
   "metadata": {},
   "outputs": [],
   "source": [
    "fig = plt.figure(figsize=(16,5))\n",
    "ds[\"Ze\"].T.plot(cmap='Spectral_r', vmin=10, vmax=50)\n",
    "plt.xlabel('Time [UTC]'), plt.ylabel('Attenuation corrected reflectivity (Zea)')\n",
    "plt.ylim(0, 5000)\n",
    "date_form = DateFormatter(\"%Y-%m-%d \\n %H:%M:%S\")\n",
    "plt.gca().xaxis.set_major_formatter(date_form)\n",
    "plt.tight_layout()\n",
    "plt.savefig(\"00_June_12_mrr.png\",dpi=500)"
   ]
  },
  {
   "cell_type": "code",
   "execution_count": null,
   "id": "8bbcf1db-abb6-4ad2-b614-1b2e909970f4",
   "metadata": {},
   "outputs": [],
   "source": [
    "fig, ax = plt.subplots(4, 1, figsize=(10, 10))\n",
    "ds[\"Zea\"].T.plot(cmap='Spectral_r', vmin=10, vmax=50, ax=ax[0])\n",
    "ax[0].set_xlabel('Time [UTC]', fontsize=12), ax[0].set_ylabel('Attenuation \\n corrected \\n reflectivity \\n (Zea)', fontsize=12)\n",
    "ax[0].set_ylim(0, 5000)\n",
    "ds[\"VEL\"].T.plot(cmap='coolwarm', vmin=-6, vmax=6, ax=ax[1])\n",
    "ax[1].set_xlabel('Time [UTC]', fontsize=12), ax[1].set_ylabel('Doppler velocity (VEL)', fontsize=12)\n",
    "ax[1].set_ylim(0, 5000)\n",
    "ds[\"WIDTH\"].T.plot(cmap='Spectral_r', vmin=0, vmax=5, ax=ax[2])\n",
    "ax[2].set_xlabel('Time [UTC]', fontsize=12), ax[2].set_ylabel('Spectral Width (WIDTH)', fontsize=12)\n",
    "ax[2].set_ylim(0, 5000)\n",
    "ds[\"SNR\"].T.plot(cmap='Spectral_r', vmin=-10, vmax=60, ax=ax[3])\n",
    "ax[3].set_xlabel('Time [UTC]', fontsize=12), ax[3].set_ylabel('SNR (SNR)', fontsize=12)\n",
    "ax[3].set_ylim(0, 5000)\n",
    "date_form = DateFormatter(\"%Y-%m-%d \\n %H:%M:%S\")\n",
    "plt.gca().xaxis.set_major_formatter(date_form)\n",
    "fig.tight_layout()"
   ]
  }
 ],
 "metadata": {
  "kernelspec": {
   "display_name": "Python 3 (ipykernel)",
   "language": "python",
   "name": "python3"
  },
  "language_info": {
   "codemirror_mode": {
    "name": "ipython",
    "version": 3
   },
   "file_extension": ".py",
   "mimetype": "text/x-python",
   "name": "python",
   "nbconvert_exporter": "python",
   "pygments_lexer": "ipython3",
   "version": "3.9.16"
  }
 },
 "nbformat": 4,
 "nbformat_minor": 5
}
